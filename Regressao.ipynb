{
  "nbformat": 4,
  "nbformat_minor": 0,
  "metadata": {
    "colab": {
      "name": "Regressao.ipynb",
      "provenance": []
    },
    "kernelspec": {
      "name": "python3",
      "display_name": "Python 3"
    },
    "language_info": {
      "name": "python"
    }
  },
  "cells": [
    {
      "cell_type": "markdown",
      "source": [
        "#Importando bibliotecas"
      ],
      "metadata": {
        "id": "uVkHkjYLr9qO"
      }
    },
    {
      "cell_type": "code",
      "source": [
        "# Possivelmente será preciso realizar o downgrade do scipy para rodar .api\n",
        "!pip install scipy==1.2 --upgrade"
      ],
      "metadata": {
        "colab": {
          "base_uri": "https://localhost:8080/",
          "height": 347
        },
        "id": "Slc1N6p12PLj",
        "outputId": "74ba2229-f9f9-4194-ffd0-d03fb39397f1"
      },
      "execution_count": 11,
      "outputs": [
        {
          "output_type": "stream",
          "name": "stdout",
          "text": [
            "Looking in indexes: https://pypi.org/simple, https://us-python.pkg.dev/colab-wheels/public/simple/\n",
            "Collecting scipy==1.2\n",
            "  Downloading scipy-1.2.0-cp37-cp37m-manylinux1_x86_64.whl (26.6 MB)\n",
            "\u001b[K     |████████████████████████████████| 26.6 MB 67.7 MB/s \n",
            "\u001b[?25hRequirement already satisfied: numpy>=1.8.2 in /usr/local/lib/python3.7/dist-packages (from scipy==1.2) (1.21.6)\n",
            "Installing collected packages: scipy\n",
            "  Attempting uninstall: scipy\n",
            "    Found existing installation: scipy 1.4.1\n",
            "    Uninstalling scipy-1.4.1:\n",
            "      Successfully uninstalled scipy-1.4.1\n",
            "\u001b[31mERROR: pip's dependency resolver does not currently take into account all the packages that are installed. This behaviour is the source of the following dependency conflicts.\n",
            "jax 0.3.8 requires scipy>=1.2.1, but you have scipy 1.2.0 which is incompatible.\n",
            "albumentations 0.1.12 requires imgaug<0.2.7,>=0.2.5, but you have imgaug 0.2.9 which is incompatible.\u001b[0m\n",
            "Successfully installed scipy-1.2.0\n"
          ]
        },
        {
          "output_type": "display_data",
          "data": {
            "application/vnd.colab-display-data+json": {
              "pip_warning": {
                "packages": [
                  "scipy"
                ]
              }
            }
          },
          "metadata": {}
        }
      ]
    },
    {
      "cell_type": "code",
      "execution_count": 1,
      "metadata": {
        "colab": {
          "base_uri": "https://localhost:8080/"
        },
        "id": "67wrqnv2o_DD",
        "outputId": "faa6783d-6e6e-4424-9227-384364870e71"
      },
      "outputs": [
        {
          "output_type": "stream",
          "name": "stderr",
          "text": [
            "/usr/local/lib/python3.7/dist-packages/statsmodels/tools/_testing.py:19: FutureWarning: pandas.util.testing is deprecated. Use the functions in the public API at pandas.testing instead.\n",
            "  import pandas.util.testing as tm\n"
          ]
        }
      ],
      "source": [
        "import pandas as pd\n",
        "import numpy as np\n",
        "import seaborn as sns\n",
        "import statsmodels.api as sm"
      ]
    },
    {
      "cell_type": "markdown",
      "source": [
        "# Covariância"
      ],
      "metadata": {
        "id": "Y1Q9ClylsNzN"
      }
    },
    {
      "cell_type": "markdown",
      "source": [
        "> ### Significado\n",
        "> ***"
      ],
      "metadata": {
        "id": "mIo1VMdm3rdK"
      }
    },
    {
      "cell_type": "markdown",
      "source": [
        "A covariância, ou variância conjunta, é a medida do grau de interdependência (ou inter-relação) numérica entre duas variáveis. Não quer dizer sobre causalidade"
      ],
      "metadata": {
        "id": "jiF6PWvu307n"
      }
    },
    {
      "cell_type": "markdown",
      "source": [
        "> ### Fórmula\n",
        "> ***"
      ],
      "metadata": {
        "id": "2spowiOC3OSz"
      }
    },
    {
      "cell_type": "markdown",
      "source": [
        "Covariância populacional\n",
        "$$\\sigma_{xy} = \\frac 1n\\sum_{i=1}^{n}(X_i-\\mu_x)(Y_i-\\mu_y)$$"
      ],
      "metadata": {
        "id": "m8Vl209Y4LvC"
      }
    },
    {
      "cell_type": "markdown",
      "source": [
        "Covariância amostral\n",
        "\n",
        "$$S_{xy} = \\frac 1{n-1}\\sum_{i=1}^{n}(X_i-\\bar{X})(Y_i-\\bar{Y})$$"
      ],
      "metadata": {
        "id": "xNzJWvD64VF3"
      }
    },
    {
      "cell_type": "code",
      "source": [
        "# Utilizar método .cov()\n",
        "# A covariância de uma variável com ela mesma é a variância\n",
        "# A covariância é influenciada pela unidade de medida\n",
        "dataset[['Coluna1', 'Coluna2']].cov()"
      ],
      "metadata": {
        "id": "ut0Si6NX44ox"
      },
      "execution_count": null,
      "outputs": []
    },
    {
      "cell_type": "markdown",
      "source": [
        "> ### Entendimento\n",
        "> ***"
      ],
      "metadata": {
        "id": "g8wYFNgo5jiP"
      }
    },
    {
      "cell_type": "markdown",
      "source": [
        "Valor de $S_{xy}$ positivo indica uma associação linear positiva entre x e y, ou seja, à medida que o valor de x aumenta, o valor de y também aumenta. Neste caso, podemos ver na figura abaixo que os pontos que têm a maior influência sobre $S_{xy}$ devem estar nos quadrantes I e III.\n",
        "\n",
        "Se o valor de $S_{xy}$ for negativo temos um indicativo de associação linear negativa entre x e y, ou seja, à medida que x aumenta, o valor de y diminui. Neste caso, podemos ver na figura abaixo que os pontos que têm a maior influência sobre $S_{xy}$ devem estar nos quadrantes II e IV.\n",
        "\n",
        "Finalmente, se os pontos estiverem uniformemente distribuídos pelos quadrantes, o valor de $S_{xy}$ se aproximará de zero, indicando que não existe nenhuma associação linear entre x e y.\n",
        "\n",
        "<img src=\"https://caelum-online-public.s3.amazonaws.com/1273-estatistica-parte4/01/img026.png\" width=50%>"
      ],
      "metadata": {
        "id": "1ayyJPD35pwi"
      }
    },
    {
      "cell_type": "code",
      "source": [
        "# Verificando graficamente a covariância \n",
        "\n",
        "x = dataset['X']\n",
        "y = dataset['Y']\n",
        "\n",
        "ax = sns.scatterplot(x,y)\n",
        "ax.figure.set_size_inches(10,6)\n",
        "ax.hlines(y = y.mean(), xmin = x.min(), xmax = x.max(), colors = 'black', linestyles = 'dashed')\n",
        "ay.vlines(x = x.mean(), ymin = y.min(), ymax = y.max(), colrs = 'black', linestyles = 'dashed')"
      ],
      "metadata": {
        "id": "DbGGano76MBM"
      },
      "execution_count": null,
      "outputs": []
    },
    {
      "cell_type": "markdown",
      "source": [
        "# Correlação"
      ],
      "metadata": {
        "id": "lp9gG8Ox5Wip"
      }
    },
    {
      "cell_type": "markdown",
      "source": [
        "> ### Significado\n",
        "> ***"
      ],
      "metadata": {
        "id": "ULNCjBoZ7e-d"
      }
    },
    {
      "cell_type": "markdown",
      "source": [
        "É obtido dividindo-se a covariância da população ou amostra pelo produto do desvio padrão populacional ou amostral de x pelo desvio padrão populacional ou amostral de y.\n",
        "\n",
        "O coeficiente de correlação varia de -1 a +1. Valores que se aproximam de -1 ou +1 indicam uma relação linear forte. Quanto mais próxima a correlação estiver de zero, mais fraca será a relação.\n",
        "\n",
        "Um ponto importante é que o coeficiente de correlação é uma medida de associação linear e não necessariamente de causação. Uma correlação alta entre duas variáveis não significa, necessariamente, que variações em uma delas provocará alterações na outra."
      ],
      "metadata": {
        "id": "52E2ntQr7dXM"
      }
    },
    {
      "cell_type": "markdown",
      "source": [
        "> ### Fórmula\n",
        "> ***"
      ],
      "metadata": {
        "id": "W13Dvzyj7pxj"
      }
    },
    {
      "cell_type": "markdown",
      "source": [
        "Coeficiente de correlação de Pearson - dados populacionais\n",
        "\n",
        "$$\\rho_{xy} = \\frac{\\sigma_{xy}}{\\sigma_{x}\\sigma_{y}}$$\n",
        "\n",
        "Coeficiente de correlação de Pearson - dados amostrais\n",
        "\n",
        "$$r_{xy} = \\frac{s_{xy}}{s_{x}s_{y}}$$\n",
        "\n",
        "Onde\n",
        "\n",
        "$\\sigma_{xy}$ = covariância populacional entre x e y\n",
        "\n",
        "$s_{xy}$ = covariância amostral entre x e y\n",
        "\n",
        "$\\sigma_{x}$ e $\\sigma_{y}$ = desvios padrão populacionais de x e y, respectivamente\n",
        "\n",
        "$s_{x}$ e $s_{y}$ = desvios padrão amostrais de x e y, respectivamente"
      ],
      "metadata": {
        "id": "7DKR1Moo7kxR"
      }
    },
    {
      "cell_type": "code",
      "source": [
        "# Utilizar método .corr()\n",
        "https://pandas.pydata.org/pandas-docs/stable/reference/api/pandas.DataFrame.corr.html\n",
        "dataset.corr()"
      ],
      "metadata": {
        "id": "dlRngGm1tEy6"
      },
      "execution_count": null,
      "outputs": []
    },
    {
      "cell_type": "markdown",
      "source": [
        "> ### Entendimento\n",
        "> ***"
      ],
      "metadata": {
        "id": "ZFhKrABQ8QjH"
      }
    },
    {
      "cell_type": "markdown",
      "source": [
        "*   0.9 para mais ou para menos indica uma correlação muito forte.\n",
        "*   0.7 a 0.9 positivo ou negativo indica uma correlação forte.\n",
        "*   0.5 a 0.7 positivo ou negativo indica uma correlação moderada.\n",
        "*   0.3 a 0.5 positivo ou negativo indica uma correlação fraca.\n",
        "*   0 a 0.3 positivo ou negativo indica uma correlação desprezível."
      ],
      "metadata": {
        "id": "KxX96hlc8SM4"
      }
    },
    {
      "cell_type": "markdown",
      "source": [
        "# Regressão linear simples"
      ],
      "metadata": {
        "id": "CKz3Tve50i6k"
      }
    },
    {
      "cell_type": "markdown",
      "source": [
        "> ### Significado\n",
        "> ***"
      ],
      "metadata": {
        "id": "ySG2Jj8B98I1"
      }
    },
    {
      "cell_type": "markdown",
      "source": [
        "A análise de regressão diz respeito ao estudo da dependência de uma variável (a variável dependente) em relação a uma ou mais variáveis, as variáveis explicativas ou independentes, visando estimar e/ou prever o valor médio da primeira em termos dos valores conhecidos ou fixados das segundas.\n",
        "\n",
        "$$Y_i = \\beta_1 + \\beta_2X_i$$\n",
        "\n",
        "Terminologia: \n",
        "\n",
        "*  A variável que é prevista é conhecida como variável dependente (*Y*).\n",
        "*  A variável utilizada para prever o valor da variável dependente é conhecida como variável independente (*X*).\n",
        "*  $\\beta_1$ é conhecido como intercepto\n",
        "*  $\\beta_2$ é o coefiente angular\n",
        "\n",
        "Em uma análise de regressão linear simples, o interesse está em estimar a função de regressão populacional como a apresentada acima, ou seja, estimar os valores dos parâmetros $\\beta_1$ e $\\beta_2$ com base nas observações de $Y$ e $X$.\n",
        "\n",
        "\n"
      ],
      "metadata": {
        "id": "-p4HbuEE95Qc"
      }
    },
    {
      "cell_type": "markdown",
      "source": [
        "> ### Método dos quadrados mínimos ordinários\n",
        "> ***"
      ],
      "metadata": {
        "id": "MXg_EQkMArN2"
      }
    },
    {
      "cell_type": "markdown",
      "source": [
        "Considere a seguinte **função de regressão da população (FRP)** para duas variáveis:\n",
        "\n",
        "$$Y_i = \\beta_1 + \\beta_2X_i + u_i$$\n",
        "\n",
        "Como a **FRP** não pode ser obtida de forma direta, precisamos estimá-la através da **função de regressão amostral (FRA)**.\n",
        "\n",
        "$$Y_i = \\hat{\\beta}_1 + \\hat{\\beta}_2X_i + \\hat{u}_i$$\n",
        "$$Y_i = \\hat{Y}_i + \\hat{u}_i$$\n",
        "\n",
        "onde $\\hat{Y}_i$ é o valor estimado de $Y_i$.\n",
        "\n",
        "A partir da equação acima podemos expressar o erro da seguinte maneira:\n",
        "\n",
        "$$\\hat{u}_i = Y_i - \\hat{Y}_i$$\n",
        "$$\\hat{u}_i = Y_i - \\hat{\\beta}_1 - \\hat{\\beta}_2X_i$$\n",
        "\n",
        "A ideia é determinar **FRA** de forma que fique o mais próximo possível do valor observado de $Y$. Intuitivamente uma forma interessante de fazer isso seria determinar **FRA** de maneira que a soma dos resíduos seja a menor possível.\n",
        "\n",
        "$$\\sum\\hat{u}_i = \\sum{(Y_i - \\hat{Y}_i)}$$\n",
        "\n",
        "Avaliando a figura abaixo se pode verificar que talvez o critério de minimizar a soma dos resíduos não seja a melhor abordagem para solucionar o problema.\n",
        "\n",
        "<img src=\"https://caelum-online-public.s3.amazonaws.com/1273-estatistica-parte4/01/img015.png\" width=50%>\n",
        "\n",
        "O critério de minimização da soma dos resíduos assume que todos os resíduos tem o mesmo peso no somatório, o que nem sempre se comprova. Em nosso exemplo os resíduos $\\hat{u}_1$ e $\\hat{u}_4$ encontram-se bem mais afastados da **FRA** que $\\hat{u}_2$ e $\\hat{u}_3$. Isso acarreta na possibilidade de que a soma dos $\\hat{u}_i$'s seja bastante pequena e até mesmo nula, mesmo que os resíduos estejam muito dispersos em relação a reta de regressão.\n",
        "\n",
        "Para evitar tal problema adotou-se o critério de minimização da soma dos quadrados dos resíduos que é conhecido como **Método de Mínimos Quadrados**.\n",
        "\n",
        "$$\\sum\\hat{u}_i^2 = \\sum{(Y_i - \\hat{Y}_i)^2}$$\n",
        "$$\\sum\\hat{u}_i^2 = \\sum{(Y_i - \\hat{\\beta}_1 - \\hat{\\beta}_2X_i)^2}$$\n",
        "\n",
        "Após um procedimento de diferenciação, algumas simplificações e manipulações algébricas obtemos os **estimadores de mínimos quadrados**.\n",
        "\n",
        "$$\n",
        "\\begin{equation}\n",
        "\\boxed{\\hat{\\beta}_2 = \\frac{n\\sum{X_iY_i} - \\sum{X_i}\\sum{Y_i}}{n\\sum{X_i^2} - (\\sum{X_i})^2}}\n",
        "\\end{equation}\n",
        "$$\n",
        "\n",
        "$$\n",
        "\\begin{equation}\n",
        "\\boxed{\n",
        "\\begin{eqnarray}\n",
        "\\hat{\\beta}_1 &=& \\frac{\\sum{X_i^2}\\sum{Y_i} - \\sum{X_i}\\sum{X_iY_i}}{n\\sum{X_i^2} - (\\sum{X_i})^2}\\\\\n",
        "&=& \\bar{Y} - \\hat{\\beta}_2\\bar{X}\n",
        "\\end{eqnarray}\n",
        "}\n",
        "\\end{equation}\n",
        "$$"
      ],
      "metadata": {
        "id": "GNyxC3ZqA-5f"
      }
    },
    {
      "cell_type": "markdown",
      "source": [
        "> ### Isolando variáveis\n",
        "> ***"
      ],
      "metadata": {
        "id": "8W3QXpYi2ey7"
      }
    },
    {
      "cell_type": "code",
      "source": [
        "# Isolar as variáveis X e Y do dataset\n",
        "Y = dataset['Y']\n",
        "X = sm.add_constant(dataset['X'])"
      ],
      "metadata": {
        "id": "HdoTSQuZ05Ng"
      },
      "execution_count": 5,
      "outputs": []
    },
    {
      "cell_type": "markdown",
      "source": [
        "> ### Utilizando OLS\n",
        "> ***"
      ],
      "metadata": {
        "id": "ZJD2Khft2ial"
      }
    },
    {
      "cell_type": "code",
      "source": [
        "# OLS = estimação de mínimos quadrados ordinários\n",
        "https://www.statsmodels.org/stable/regression.html\n",
        "resultado_regressao = sm.OLS(Y, X, missing='drop').fit()"
      ],
      "metadata": {
        "id": "s3JvEGho0kv7"
      },
      "execution_count": null,
      "outputs": []
    },
    {
      "cell_type": "markdown",
      "source": [
        "> ### Demonstrando e interpretando resultado\n",
        "> ***"
      ],
      "metadata": {
        "id": "OouNAbCP2lKW"
      }
    },
    {
      "cell_type": "code",
      "source": [
        "# Para obter apenas beta_1 e beta_2\n",
        "resultado_regressao.params()"
      ],
      "metadata": {
        "id": "xOqVDIUtE4NO"
      },
      "execution_count": null,
      "outputs": []
    },
    {
      "cell_type": "code",
      "source": [
        "# Para obter intervalo de confiança, sendo 0 limite inferior e 1 limite superior\n",
        "# Alpha pode ser alterado para qualquer outro nível de significância\n",
        "resultado_regressao.conf_int(alpha=0.05)"
      ],
      "metadata": {
        "id": "-DE4QTTNFJb_"
      },
      "execution_count": null,
      "outputs": []
    },
    {
      "cell_type": "code",
      "source": [
        "print(resultado_regressao.summary())"
      ],
      "metadata": {
        "id": "h-3dROxc1XCH"
      },
      "execution_count": null,
      "outputs": []
    },
    {
      "cell_type": "markdown",
      "source": [
        "Interpretação"
      ],
      "metadata": {
        "id": "leQ4x8jc2XR_"
      }
    },
    {
      "cell_type": "markdown",
      "source": [
        "> ### Observando graficamente\n",
        "> ***"
      ],
      "metadata": {
        "id": "etPY5YfU_NHW"
      }
    },
    {
      "cell_type": "markdown",
      "source": [
        "A equação formulada acima é conhecida como **função de regressão populacional (FRP)** e em alguns livros é também representada da seguinte forma:\n",
        "\n",
        "$$E(Y|X_i) = \\beta_1 + \\beta_2X_i$$\n",
        "\n",
        "Ela afirma que o valor esperado da distribuição de $Y$, dado $X_i$, tem uma relação funcional com $X_i$, isto é, a resposta média de $Y$ varia com $X$. O coeficientes $\\beta_1$ e $\\beta_2$ são conhecidos como coeficientes de regressão e também são conhecidos como intercepto e coeficiente angular, respectivamente.\n",
        "\n",
        "<img src=\"https://caelum-online-public.s3.amazonaws.com/1273-estatistica-parte4/01/img027.png\" width=50%>\n"
      ],
      "metadata": {
        "id": "0iJcFjGpANa_"
      }
    },
    {
      "cell_type": "code",
      "source": [
        "# Verificando graficamente a covariância \n",
        "\n",
        "x = dataset['X']\n",
        "y = dataset['Y']\n",
        "\n",
        "ax = sns.lmplot(x='X', y='Y', dados=dataset)\n",
        "ax.figure.set_size_inches(12,6)\n",
        "ax.figure.suptitle('Reta regressão', fontsize=16, y=1.02)\n",
        "ax.set_xlabels('Nome da variável X', fontsize=14)\n",
        "ax.set_ylabels('Nome da variável Y', fontsize=14)"
      ],
      "metadata": {
        "id": "-2XgOG37_HZk"
      },
      "execution_count": null,
      "outputs": []
    },
    {
      "cell_type": "markdown",
      "source": [
        "> ### Utilizando equação para predição\n",
        "> ***"
      ],
      "metadata": {
        "id": "2RDPI51E2pGQ"
      }
    },
    {
      "cell_type": "code",
      "source": [
        "dataset['Y_pred'] = resultado.regressao.predict()"
      ],
      "metadata": {
        "id": "p05tvlqb1wfp"
      },
      "execution_count": null,
      "outputs": []
    },
    {
      "cell_type": "code",
      "source": [
        "def predicao(x):\n",
        "  return resultado.regressao.predict([1, X])[0]"
      ],
      "metadata": {
        "id": "da5EzhM8G675"
      },
      "execution_count": null,
      "outputs": []
    },
    {
      "cell_type": "markdown",
      "source": [
        "> ### Resíduos\n",
        "> ***"
      ],
      "metadata": {
        "id": "uFdhmQsKGlju"
      }
    },
    {
      "cell_type": "markdown",
      "source": [
        "O resíduo da i-ésima observação é a diferença entre o valor observado de nossa variável dependente ($Y_i$) e o valor estimado da variável dependente ($\\hat{Y}_i$)."
      ],
      "metadata": {
        "id": "MCDI22AcH5lo"
      }
    },
    {
      "cell_type": "markdown",
      "source": [
        "$$\\hat{u}_i = Y_i - \\hat{Y}_i$$"
      ],
      "metadata": {
        "id": "NYL_lnA2H8E5"
      }
    },
    {
      "cell_type": "markdown",
      "source": [
        "Em outras palavras, $\\hat{u}_i$ é o erro obtido ao se utilizar a equação de regressão estimada para prever o valor da variável dependente."
      ],
      "metadata": {
        "id": "i4TAV7h3IBo0"
      }
    },
    {
      "cell_type": "code",
      "source": [
        "dataset['Residuos'] = resultado_regressao.resid\n",
        "dataset['Residuos']"
      ],
      "metadata": {
        "id": "LCQc1oYFGm1a"
      },
      "execution_count": null,
      "outputs": []
    },
    {
      "cell_type": "code",
      "source": [
        "# Obtendo o grau de liberdade dos resíduos\n",
        "\n",
        "resultado_regressao.df_resid"
      ],
      "metadata": {
        "id": "Y7y4m9rxVO-R"
      },
      "execution_count": null,
      "outputs": []
    },
    {
      "cell_type": "markdown",
      "source": [
        "Suposições sobre o termo de erro $u$\n",
        "1. O termo de erro $u$ é uma variável aleatória com média igual a zero: $E(u) = 0$\n",
        "2. A variância de $u$ é a mesma para todos os valores de $X$\n",
        "3. O valores de $u$ são independentes\n",
        "4. O termo de erro $u$ é uma variável aleatória normalmente distribuída."
      ],
      "metadata": {
        "id": "6bqZuymUIbix"
      }
    },
    {
      "cell_type": "markdown",
      "source": [
        "Sobre os erros, eles podem ter:\n",
        "\n",
        "*   Homocedasticidade = variância dos erros é constante\n",
        "*   Heterocedasticidade = variância dos erros não é constante\n",
        "\n",
        "<img src=\"https://caelum-online-public.s3.amazonaws.com/1273-estatistica-parte4/01/img028.jpg\" width=80%>\n",
        "Fonte: Econometria Básica - 5ª edição - Gujarati e Porter"
      ],
      "metadata": {
        "id": "0C1THIqkKGjv"
      }
    },
    {
      "cell_type": "code",
      "source": [
        "# Para visualizar os resíduos em comparação ao Y_pred:\n",
        "\n",
        "ax = sns.scatterplot(x=dataset.Y_pred, y=dataset.Residuos **2)\n",
        "ax.figure.set_size_inches(12,6)\n",
        "ax.set_title('Resíduos vs Y_pred', fontsize=18)\n",
        "ax.set_xlabels('Y_pred', fontsize=14)\n",
        "ax.set_ylabels('Resíduos2', fontsize=14)\n",
        "ax"
      ],
      "metadata": {
        "id": "4D82QPXWIkB8"
      },
      "execution_count": 7,
      "outputs": []
    },
    {
      "cell_type": "markdown",
      "source": [
        "> ### Coeficiente de determinação R2\n",
        "> ***"
      ],
      "metadata": {
        "id": "GeDR4gwjJCXN"
      }
    },
    {
      "cell_type": "markdown",
      "source": [
        "O **coeficiente de determinação R²** é uma medida resumida que diz quanto a linha de regressão amostral se ajusta aos dados. Pode ser obtido a partir da seguinte fórmula:\n",
        "\n",
        "$$R^2 = \\frac{\\big[\\sum{(Y_i - \\bar{Y})(\\hat{Y}_i - \\bar{Y})}\\big]^2}{\\sum{(Y_i - \\bar{Y}})^2 \\sum{(\\hat{Y}_i - \\bar{Y}})^2}$$\n",
        "\n",
        "Sabemos que o i-ésimo resíduo representa o erro de usarmos $\\hat{Y}_i$ para estimar $Y_i$. A soma dos quadrados desses resíduos é o valor que é minimizado pelo método dos mínimos quadrados. Esse valor pode ser representado da seguinte forma:\n",
        "\n",
        "$$SQE = \\sum{(Y_i - \\hat{Y}_i)^2}$$\n",
        "\n",
        "O valor da SQE é uma medida do erro de se usar a equação de regressão estimada para estimar os valores da variável dependente na amostra.\n",
        "\n",
        "Outro componente que podemos medir é a soma dos quadrados total (SQT) que representa a medida do erro envolvido no uso da média ($\\bar{Y}$) para fazer as estimativas. A SQT pode ser representada da forma abaixo:\n",
        "\n",
        "$$SQT = \\sum{(Y_i - \\bar{Y})^2}$$\n",
        "\n",
        "Para quantificar o quanto os valores estimados ($\\hat{Y}_i$) se afastam da média ($\\bar{Y}$) podemos obter mais uma soma de quadrados. Essa soma é chamada de soma dos quadrados da regressão (SQR) e é representada pela seguinte fórmula:\n",
        "\n",
        "$$SQR = \\sum{(\\hat{Y}_i - \\bar{Y})^2}$$\n"
      ],
      "metadata": {
        "id": "0oJk3jM8N7xc"
      }
    },
    {
      "cell_type": "code",
      "source": [
        "# Utilizando o SRQ (sum of squared residuals): \n",
        "  \n",
        "resultado_regressao.ssr"
      ],
      "metadata": {
        "id": "Pt_rPjxDJGyf"
      },
      "execution_count": null,
      "outputs": []
    },
    {
      "cell_type": "code",
      "source": [
        "# Utilizando o SQT (explained sum of squares):\n",
        "\n",
        "resultado_regressao.ess"
      ],
      "metadata": {
        "id": "OoOB-BgWOKTj"
      },
      "execution_count": null,
      "outputs": []
    },
    {
      "cell_type": "markdown",
      "source": [
        "Relação entre as somas de quadrados\n",
        "\n",
        "$$SQT = SQR + SQE$$\n",
        "\n",
        "Onde,\n",
        "*   $SQE = \\sum{(Y_i - \\hat{Y}_i)^2}$\n",
        "\n",
        "*   $SQT = \\sum{(Y_i - \\bar{Y})^2}$\n",
        "\n",
        "*   $SQR = \\sum{(\\hat{Y}_i - \\bar{Y})^2}$\n",
        "\n",
        "\n",
        "<img src=\"https://caelum-online-public.s3.amazonaws.com/1273-estatistica-parte4/01/img029.png\" width=50%>"
      ],
      "metadata": {
        "id": "cEldAxKLO93d"
      }
    },
    {
      "cell_type": "markdown",
      "source": [
        "A regressão estimada teria um ajuste perfeito se todos os valores da variável dependente ($Y_i$) estiverem sobre a reta de regressão estimada. Quando isso ocorre temos $Y_i - \\hat{Y}_i = 0$ para todas as observações, o que resulta em uma $SQE = 0$. Como $SQT=SQR+SQE$, é possível deduzir que para termos um ajuste perfeito $SQT$ deve ser igual a $SQR$ e a razão entre estas medidas ($\\frac{SQR}{SQT}$) deve ser igual a 1.\n",
        "\n",
        "Quando o ajuste não é tão perfeito nota-se que a $SQE$ apresenta valores maiores o que faz a razão $\\frac{SQR}{SQT}$ diminuir, e em uma situação de total imperfeição do ajuste teríamos uma $SQR=0$ e $SQE=SQT$ levando a $\\frac{SQR}{SQT}=0$.\n",
        "\n",
        "A razão $\\frac{SQR}{SQT}$, que assume valores entre 0 e 1, é utilizada como medida de eficiência do ajuste da equação de regressão estimada. Essa medida é conhecida como coeficiente de determinação (R²).\n",
        "\n",
        "$$R^2 = \\frac{SQR}{SQT}$$\n",
        "\n",
        "Observação: Somente com a utilização do R² não é possível tirar conclusões sobre a relação entre $Y$ e $X$ ser ou não ser estatisticamente\n",
        "significativa. Este tipo de afirmação deve basear-se em considerações que envolvem o tamanho da amostra e as propriedades da distribuição amostral dos estimadores mínimos quadrados."
      ],
      "metadata": {
        "id": "dizildviPvFm"
      }
    },
    {
      "cell_type": "code",
      "source": [
        "# Utilizando R2: \n",
        "\n",
        "resultado_regressao.rsquared"
      ],
      "metadata": {
        "id": "95bFwfU2P_nU"
      },
      "execution_count": null,
      "outputs": []
    },
    {
      "cell_type": "markdown",
      "source": [
        "> ### Erro quadrático médio para obter estatística de teste\n",
        "> ***"
      ],
      "metadata": {
        "id": "6laW_DUSSqaN"
      }
    },
    {
      "cell_type": "markdown",
      "source": [
        "Lembre-se que a **soma dos quadrados do erros ou resíduos (SQE)** é uma medida numérica da variabilidade dos dados observados em torno da reta de regressão estimada. Todas as somas de quadrados, estudadas anteriormente, estão associadas a um determinado número de graus de liberdade. No caso da SQE, como devem ser estimados dois parâmetros, temos $n-2$ graus de liberdade.\n",
        "\n",
        "O **erro quadrático médio**, representado pela equação abaixo, pode ser obtido dividindo-se a SQE por $n-2$ graus de liberdade.\n",
        "\n",
        "$$EQM = \\frac{SQE}{n-2}$$"
      ],
      "metadata": {
        "id": "B4Fs56zbStan"
      }
    },
    {
      "cell_type": "code",
      "source": [
        "# Obtendo EQM pelo statsmodels:\n",
        "\n",
        "EQM = resultado_regressao.mse_resid"
      ],
      "metadata": {
        "id": "geqrjI9lTotk"
      },
      "execution_count": null,
      "outputs": []
    },
    {
      "cell_type": "code",
      "source": [
        "# Obtendo EQM alternativamente\n",
        "\n",
        "EQM = resultado_regressao.ssr / resultado_regressao.df_resid"
      ],
      "metadata": {
        "id": "5xaEUs9vUEnL"
      },
      "execution_count": null,
      "outputs": []
    },
    {
      "cell_type": "markdown",
      "source": [
        "> ### Teste de hipótese para nulidade do coeficiente angular\n",
        "> ***"
      ],
      "metadata": {
        "id": "WngEktg5Qjvh"
      }
    },
    {
      "cell_type": "markdown",
      "source": [
        "Considere o seguinte modelo de regressão linear simples:\n",
        "\n",
        "$$Y_i = \\beta_1 + \\beta_2X_i + u_i$$\n",
        "\n",
        "Se as variáveis $Y$ e $X$ são linearmente relacionadas, espera-se que $\\beta_2$ seja diferente de zero. Para testar esta hipótese formulamos um teste de hipótese com a seguinte especificação de hipóteses nula e alternativa:\n",
        "\n",
        "*   $H_0: \\beta_2 = 0$\n",
        "*   $H_1: \\beta_2 \\neq 0$\n",
        "\n",
        "Caso $H_0$ seja rejeitada, concluiremos que existe uma relação linear estatisticamente significativa entre as duas variáveis.\n",
        "\n",
        "Considere agora que $b_1$ e $b_2$ são nossos estimadores de mínimos quadrados. Considere que a distribuição amostral de $b_2$ segue uma normal e também as seguintes propriedades:\n",
        "\n",
        "$$E(b_2) = \\beta_2$$\n",
        "$$\\sigma_{b_2} = \\frac{\\sigma}{\\sqrt{\\sum{(X_i - \\bar{X})^2}}}$$\n",
        "\n",
        "Como não conhecemos o valor de $\\sigma$, utilizamos $s$ como estimativa:\n",
        "\n",
        "$$s_{b_2} = \\frac{s}{\\sqrt{\\sum{(X_i - \\bar{X})^2}}}$$\n",
        "\n",
        "Note que o valor esperado de $b_2$ é $\\beta_2$, logo, $b_2$ é um estimador não viesado de $\\beta_2$. Abaixo temos a estatística de teste (t) que segue uma distribuição t de Student com $n-2$ graus de liberdade.\n",
        "\n",
        "$$t = \\frac{b_2 - \\beta_2}{s_{b_2}}$$"
      ],
      "metadata": {
        "id": "hutEM6CBRYjk"
      }
    },
    {
      "cell_type": "markdown",
      "source": [
        "Critério do valor crítico: Teste Bicaudal: Rejeitar $H_0$ se $t \\leq -t_{\\alpha / 2}$ ou se $t \\geq t_{\\alpha / 2}$\n",
        "\n",
        "Critério do $p-valor$: \n",
        "Teste Bicaudal: Rejeitar $H_0$ se o valor $p\\leq\\alpha$"
      ],
      "metadata": {
        "id": "9_hhONavYIse"
      }
    },
    {
      "cell_type": "code",
      "source": [
        "# obtendo estatística de teste \n",
        "# utilizar índice [0,1,etc] para adquirir o valor para cada um dos beta\n",
        "resultado_regressao.tvalues"
      ],
      "metadata": {
        "id": "xr2U7JdvV3dV"
      },
      "execution_count": null,
      "outputs": []
    },
    {
      "cell_type": "code",
      "source": [
        "# obtendo p_valor:\n",
        "# utilizar índice [0,1,etc] para adquirir o valor para cada um dos beta\n",
        "resultado_regressao.pvalues"
      ],
      "metadata": {
        "id": "KOHXWe3vWHd1"
      },
      "execution_count": 8,
      "outputs": []
    },
    {
      "cell_type": "markdown",
      "source": [
        "> ### Teste F\n",
        "> ***"
      ],
      "metadata": {
        "id": "-c7ulUVQRxx4"
      }
    },
    {
      "cell_type": "markdown",
      "source": [
        "O teste F também é uma ferramenta para testar a significância na regressão. Baseado na distribuição F de probabilidade, o teste F é utilizado para verificar a significância global na regressão, isto é, em uma regressão múltipla, onde existe mais de uma variável independente, o teste F verifica a nulidade de todos os parâmetros do modelo conjuntamente.\n",
        "\n",
        "Em nosso caso (regressão linear simples) ele fornece a mesma conclusão obtida com o teste t.\n",
        "\n",
        "**Hipóteses:**\n",
        "\n",
        "*   $H_0: \\beta_2 = 0$\n",
        "*   $H_0: \\beta_2 \\neq 0$\n",
        "\n",
        "**Estatística de teste:**\n",
        "\n",
        "$$F = \\frac{\\frac{SQR}{k}}{\\frac{SQE}{n-k-1}}$$\n",
        "\n",
        "Onde,\n",
        "\n",
        "$SQR$ - soma dos quadrados da regressão\n",
        "\n",
        "$SQE$ - soma dos quadrados dos erros\n",
        "\n",
        "$k$ - total de variáveis independentes ($X$)\n",
        "\n",
        "\n",
        "**Critério do valor crítico** $\\rightarrow$ Rejeitar se $F \\geq F_{\\alpha}$\n",
        "\n",
        "Onde, $F_{\\alpha}$ - baseia-se na distribuição F com $k$ graus de liberdade no numerador e $n-k-1$ no denominador.\n",
        "\n",
        "**Critério do p-valor** $\\rightarrow$ Rejeitar se $p-valor \\leq \\alpha$"
      ],
      "metadata": {
        "id": "Rw4tJ7-3W3IN"
      }
    },
    {
      "cell_type": "code",
      "source": [
        "# Alternativas de cálculo de F\n",
        "F = resultado_regressao.mse_model / resultado_regressao.mse_resid\n",
        "F = resultado.regressao.fvalue"
      ],
      "metadata": {
        "id": "GoSddN2GQlnJ"
      },
      "execution_count": null,
      "outputs": []
    },
    {
      "cell_type": "code",
      "source": [
        "# Alternativas de cálculo de p_valor de F\n",
        "p_valor_f = resultado_regressao.f_pvalue"
      ],
      "metadata": {
        "id": "4-pl71M6Yvsy"
      },
      "execution_count": null,
      "outputs": []
    },
    {
      "cell_type": "markdown",
      "source": [
        "> ### Teste normalidade de resíduos - Omnibus\n",
        "> ***"
      ],
      "metadata": {
        "id": "xQIJyE6POQXz"
      }
    },
    {
      "cell_type": "code",
      "source": [
        "# https://docs.scipy.org/doc/scipy/reference/generated/scipy.stats.normaltest.html\n",
        "# Testa a hipótese nula que os dados dos resíduos se distribuem como uma normal\n",
        "from scipy.stats import normaltest\n",
        "normaltest(dataset.Residuos)"
      ],
      "metadata": {
        "id": "0GJz6PzYOR87"
      },
      "execution_count": 1,
      "outputs": []
    },
    {
      "cell_type": "code",
      "source": [
        "# Plota o gráfico sobre uma reta normal\n",
        "# O gráfico quantil-quantil ou qq-plot, porposto por Wilk & Gnanadesikan (1968), é um dispositivo gráfico exploratório utilizado para verificar a vali- dade de um pressuposto de distribuiç˜ao para um conjunto de dados\n",
        "from scipy.stats import probplot\n",
        "import matplotlib.pyplot as plt\n",
        "\n",
        "(_, (_, _, _)) = probplot(dataset.Residuos, plot = plt)"
      ],
      "metadata": {
        "id": "fCVfh2yFRPCc"
      },
      "execution_count": null,
      "outputs": []
    },
    {
      "cell_type": "markdown",
      "source": [
        "![Screenshot_6.png](data:image/png;base64,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)"
      ],
      "metadata": {
        "id": "ytMbErOMSKJS"
      }
    },
    {
      "cell_type": "markdown",
      "source": [
        "> ### Teste simetria dos resíduos\n",
        "> ***"
      ],
      "metadata": {
        "id": "po0B2bVTSXRS"
      }
    },
    {
      "cell_type": "code",
      "source": [
        "# https://docs.scipy.org/doc/scipy/reference/generated/scipy.stats.skew.html\n",
        "from scipy.stats import skew\n",
        "S = skew(dataset.Residuos)"
      ],
      "metadata": {
        "id": "3pxYen6fSL2X"
      },
      "execution_count": null,
      "outputs": []
    },
    {
      "cell_type": "markdown",
      "source": [
        "> ### Teste curtose dos resíduos\n",
        "> ***"
      ],
      "metadata": {
        "id": "H-5eVe8tSj4x"
      }
    },
    {
      "cell_type": "code",
      "source": [
        "# https://docs.scipy.org/doc/scipy/reference/generated/scipy.stats.kurtosis.html\n",
        "from scipy.stats import kurtosis\n"
      ],
      "metadata": {
        "id": "MeymjuSiSl6e"
      },
      "execution_count": null,
      "outputs": []
    }
  ]
}